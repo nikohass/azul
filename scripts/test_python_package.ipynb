{
 "cells": [
  {
   "cell_type": "code",
   "execution_count": 1,
   "metadata": {},
   "outputs": [],
   "source": [
    "import azul2, azul3, azul4"
   ]
  },
  {
   "cell_type": "code",
   "execution_count": 2,
   "metadata": {},
   "outputs": [
    {
     "name": "stdout",
     "output_type": "stream",
     "text": [
      "BAG: \u001b[34mB\u001b[0m 15\t\u001b[33mY\u001b[0m 16\t\u001b[31mR\u001b[0m 19\t\u001b[32mG\u001b[0m 15\t\u001b[97mW\u001b[0m 15\t\n",
      "OUT OF BAG: \u001b[34mB\u001b[0m 0\t\u001b[33mY\u001b[0m 0\t\u001b[31mR\u001b[0m 0\t\u001b[32mG\u001b[0m 0\t\u001b[97mW\u001b[0m 0\t\n",
      "\n",
      "   [1] \u001b[34mB\u001b[0m\u001b[32mG\u001b[0m\u001b[32mG\u001b[0m\u001b[97mW\u001b[0m  [2] \u001b[34mB\u001b[0m\u001b[34mB\u001b[0m\u001b[32mG\u001b[0m\u001b[32mG\u001b[0m  [3] \u001b[34mB\u001b[0m\u001b[31mR\u001b[0m\u001b[97mW\u001b[0m\u001b[97mW\u001b[0m  [4] \u001b[33mY\u001b[0m\u001b[33mY\u001b[0m\u001b[32mG\u001b[0m\u001b[97mW\u001b[0m  [5] \u001b[34mB\u001b[0m\u001b[33mY\u001b[0m\u001b[33mY\u001b[0m\u001b[97mW\u001b[0m  [C]   \n",
      "\n",
      " \u001b[30m\u001b[47mPlayer 0                  0\u001b[0m |  Player 1                  0\u001b[0m \n",
      "-----------------------------+-----------------------------\n",
      "                             |                             \n",
      " 1         .  ->  \u001b[34m.\u001b[0m \u001b[33m.\u001b[0m \u001b[31m.\u001b[0m \u001b[32m.\u001b[0m \u001b[97m.\u001b[0m  |  1         .  ->  \u001b[34m.\u001b[0m \u001b[33m.\u001b[0m \u001b[31m.\u001b[0m \u001b[32m.\u001b[0m \u001b[97m.\u001b[0m \n",
      " 2       . .  ->  \u001b[97m.\u001b[0m \u001b[34m.\u001b[0m \u001b[33m.\u001b[0m \u001b[31m.\u001b[0m \u001b[32m.\u001b[0m  |  2       . .  ->  \u001b[97m.\u001b[0m \u001b[34m.\u001b[0m \u001b[33m.\u001b[0m \u001b[31m.\u001b[0m \u001b[32m.\u001b[0m \n",
      " 3     . . .  ->  \u001b[32m.\u001b[0m \u001b[97m.\u001b[0m \u001b[34m.\u001b[0m \u001b[33m.\u001b[0m \u001b[31m.\u001b[0m  |  3     . . .  ->  \u001b[32m.\u001b[0m \u001b[97m.\u001b[0m \u001b[34m.\u001b[0m \u001b[33m.\u001b[0m \u001b[31m.\u001b[0m \n",
      " 4   . . . .  ->  \u001b[31m.\u001b[0m \u001b[32m.\u001b[0m \u001b[97m.\u001b[0m \u001b[34m.\u001b[0m \u001b[33m.\u001b[0m  |  4   . . . .  ->  \u001b[31m.\u001b[0m \u001b[32m.\u001b[0m \u001b[97m.\u001b[0m \u001b[34m.\u001b[0m \u001b[33m.\u001b[0m \n",
      " 5 . . . . .  ->  \u001b[33m.\u001b[0m \u001b[31m.\u001b[0m \u001b[32m.\u001b[0m \u001b[97m.\u001b[0m \u001b[34m.\u001b[0m  |  5 . . . . .  ->  \u001b[33m.\u001b[0m \u001b[31m.\u001b[0m \u001b[32m.\u001b[0m \u001b[97m.\u001b[0m \u001b[34m.\u001b[0m \n",
      "                             |                             \n",
      "-----------------------------+-----------------------------\n",
      " \u001b[02m-1 \u001b[0m\u001b[02m-1 \u001b[0m\u001b[02m-2 \u001b[0m\u001b[02m-2 \u001b[0m\u001b[02m-2 \u001b[0m\u001b[02m-3 \u001b[0m\u001b[02m-3 \u001b[0m     0 |  \u001b[02m-1 \u001b[0m\u001b[02m-1 \u001b[0m\u001b[02m-2 \u001b[0m\u001b[02m-2 \u001b[0m\u001b[02m-2 \u001b[0m\u001b[02m-3 \u001b[0m\u001b[02m-3 \u001b[0m     0\n",
      "\n",
      "BAG: \u001b[34mB\u001b[0m 13\t\u001b[33mY\u001b[0m 15\t\u001b[31mR\u001b[0m 16\t\u001b[32mG\u001b[0m 15\t\u001b[97mW\u001b[0m 13\t\n",
      "OUT OF BAG: \u001b[34mB\u001b[0m 0\t\u001b[33mY\u001b[0m 0\t\u001b[31mR\u001b[0m 0\t\u001b[32mG\u001b[0m 0\t\u001b[97mW\u001b[0m 0\t\n",
      "\n",
      "     [1] \u001b[34mB\u001b[0m\u001b[31mR\u001b[0m\u001b[32mG\u001b[0m\u001b[97mW\u001b[0m   [2] \u001b[34mB\u001b[0m\u001b[32mG\u001b[0m\u001b[32mG\u001b[0m\u001b[97mW\u001b[0m   [3] \u001b[33mY\u001b[0m\u001b[31mR\u001b[0m\u001b[31mR\u001b[0m\u001b[32mG\u001b[0m   [4] \u001b[34mB\u001b[0m\u001b[34mB\u001b[0m\u001b[33mY\u001b[0m\u001b[31mR\u001b[0m   [5] \u001b[34mB\u001b[0m\u001b[34mB\u001b[0m\u001b[97mW\u001b[0m\u001b[97mW\u001b[0m   [6] \u001b[34mB\u001b[0m\u001b[33mY\u001b[0m\u001b[97mW\u001b[0m\u001b[97mW\u001b[0m   [7] \u001b[33mY\u001b[0m\u001b[33mY\u001b[0m\u001b[32mG\u001b[0m\u001b[97mW\u001b[0m   [C]    \n",
      "\n",
      " \u001b[30m\u001b[47mPlayer 0                  0\u001b[0m |  Player 1                  0\u001b[0m |  Player 2                  0\u001b[0m \n",
      "-----------------------------+------------------------------+-----------------------------\n",
      "                             |                              |                             \n",
      " 1         .  ->  \u001b[34m.\u001b[0m \u001b[33m.\u001b[0m \u001b[31m.\u001b[0m \u001b[32m.\u001b[0m \u001b[97m.\u001b[0m  |  1         .  ->  \u001b[34m.\u001b[0m \u001b[33m.\u001b[0m \u001b[31m.\u001b[0m \u001b[32m.\u001b[0m \u001b[97m.\u001b[0m  |  1         .  ->  \u001b[34m.\u001b[0m \u001b[33m.\u001b[0m \u001b[31m.\u001b[0m \u001b[32m.\u001b[0m \u001b[97m.\u001b[0m \n",
      " 2       . .  ->  \u001b[97m.\u001b[0m \u001b[34m.\u001b[0m \u001b[33m.\u001b[0m \u001b[31m.\u001b[0m \u001b[32m.\u001b[0m  |  2       . .  ->  \u001b[97m.\u001b[0m \u001b[34m.\u001b[0m \u001b[33m.\u001b[0m \u001b[31m.\u001b[0m \u001b[32m.\u001b[0m  |  2       . .  ->  \u001b[97m.\u001b[0m \u001b[34m.\u001b[0m \u001b[33m.\u001b[0m \u001b[31m.\u001b[0m \u001b[32m.\u001b[0m \n",
      " 3     . . .  ->  \u001b[32m.\u001b[0m \u001b[97m.\u001b[0m \u001b[34m.\u001b[0m \u001b[33m.\u001b[0m \u001b[31m.\u001b[0m  |  3     . . .  ->  \u001b[32m.\u001b[0m \u001b[97m.\u001b[0m \u001b[34m.\u001b[0m \u001b[33m.\u001b[0m \u001b[31m.\u001b[0m  |  3     . . .  ->  \u001b[32m.\u001b[0m \u001b[97m.\u001b[0m \u001b[34m.\u001b[0m \u001b[33m.\u001b[0m \u001b[31m.\u001b[0m \n",
      " 4   . . . .  ->  \u001b[31m.\u001b[0m \u001b[32m.\u001b[0m \u001b[97m.\u001b[0m \u001b[34m.\u001b[0m \u001b[33m.\u001b[0m  |  4   . . . .  ->  \u001b[31m.\u001b[0m \u001b[32m.\u001b[0m \u001b[97m.\u001b[0m \u001b[34m.\u001b[0m \u001b[33m.\u001b[0m  |  4   . . . .  ->  \u001b[31m.\u001b[0m \u001b[32m.\u001b[0m \u001b[97m.\u001b[0m \u001b[34m.\u001b[0m \u001b[33m.\u001b[0m \n",
      " 5 . . . . .  ->  \u001b[33m.\u001b[0m \u001b[31m.\u001b[0m \u001b[32m.\u001b[0m \u001b[97m.\u001b[0m \u001b[34m.\u001b[0m  |  5 . . . . .  ->  \u001b[33m.\u001b[0m \u001b[31m.\u001b[0m \u001b[32m.\u001b[0m \u001b[97m.\u001b[0m \u001b[34m.\u001b[0m  |  5 . . . . .  ->  \u001b[33m.\u001b[0m \u001b[31m.\u001b[0m \u001b[32m.\u001b[0m \u001b[97m.\u001b[0m \u001b[34m.\u001b[0m \n",
      "                             |                              |                             \n",
      "-----------------------------+------------------------------+-----------------------------\n",
      " \u001b[02m-1 \u001b[0m\u001b[02m-1 \u001b[0m\u001b[02m-2 \u001b[0m\u001b[02m-2 \u001b[0m\u001b[02m-2 \u001b[0m\u001b[02m-3 \u001b[0m\u001b[02m-3 \u001b[0m     0 |  \u001b[02m-1 \u001b[0m\u001b[02m-1 \u001b[0m\u001b[02m-2 \u001b[0m\u001b[02m-2 \u001b[0m\u001b[02m-2 \u001b[0m\u001b[02m-3 \u001b[0m\u001b[02m-3 \u001b[0m     0 |  \u001b[02m-1 \u001b[0m\u001b[02m-1 \u001b[0m\u001b[02m-2 \u001b[0m\u001b[02m-2 \u001b[0m\u001b[02m-2 \u001b[0m\u001b[02m-3 \u001b[0m\u001b[02m-3 \u001b[0m     0\n",
      "\n",
      "BAG: \u001b[34mB\u001b[0m 13\t\u001b[33mY\u001b[0m 16\t\u001b[31mR\u001b[0m 10\t\u001b[32mG\u001b[0m 12\t\u001b[97mW\u001b[0m 13\t\n",
      "OUT OF BAG: \u001b[34mB\u001b[0m 0\t\u001b[33mY\u001b[0m 0\t\u001b[31mR\u001b[0m 0\t\u001b[32mG\u001b[0m 0\t\u001b[97mW\u001b[0m 0\t\n",
      "\n",
      "     [1] \u001b[34mB\u001b[0m\u001b[33mY\u001b[0m\u001b[31mR\u001b[0m\u001b[32mG\u001b[0m    [2] \u001b[33mY\u001b[0m\u001b[33mY\u001b[0m\u001b[32mG\u001b[0m\u001b[32mG\u001b[0m    [3] \u001b[34mB\u001b[0m\u001b[31mR\u001b[0m\u001b[32mG\u001b[0m\u001b[97mW\u001b[0m    [4] \u001b[34mB\u001b[0m\u001b[31mR\u001b[0m\u001b[32mG\u001b[0m\u001b[97mW\u001b[0m    [5] \u001b[34mB\u001b[0m\u001b[31mR\u001b[0m\u001b[32mG\u001b[0m\u001b[97mW\u001b[0m    [6] \u001b[31mR\u001b[0m\u001b[31mR\u001b[0m\u001b[31mR\u001b[0m\u001b[97mW\u001b[0m    [7] \u001b[34mB\u001b[0m\u001b[34mB\u001b[0m\u001b[32mG\u001b[0m\u001b[97mW\u001b[0m    [8] \u001b[33mY\u001b[0m\u001b[31mR\u001b[0m\u001b[32mG\u001b[0m\u001b[97mW\u001b[0m    [9] \u001b[34mB\u001b[0m\u001b[31mR\u001b[0m\u001b[31mR\u001b[0m\u001b[97mW\u001b[0m    [C]     \n",
      "\n",
      " \u001b[30m\u001b[47mPlayer 0                  0\u001b[0m |  Player 1                  0\u001b[0m |  Player 2                  0\u001b[0m |  Player 3                  0\u001b[0m \n",
      "-----------------------------+------------------------------+------------------------------+-----------------------------\n",
      "                             |                              |                              |                             \n",
      " 1         .  ->  \u001b[34m.\u001b[0m \u001b[33m.\u001b[0m \u001b[31m.\u001b[0m \u001b[32m.\u001b[0m \u001b[97m.\u001b[0m  |  1         .  ->  \u001b[34m.\u001b[0m \u001b[33m.\u001b[0m \u001b[31m.\u001b[0m \u001b[32m.\u001b[0m \u001b[97m.\u001b[0m  |  1         .  ->  \u001b[34m.\u001b[0m \u001b[33m.\u001b[0m \u001b[31m.\u001b[0m \u001b[32m.\u001b[0m \u001b[97m.\u001b[0m  |  1         .  ->  \u001b[34m.\u001b[0m \u001b[33m.\u001b[0m \u001b[31m.\u001b[0m \u001b[32m.\u001b[0m \u001b[97m.\u001b[0m \n",
      " 2       . .  ->  \u001b[97m.\u001b[0m \u001b[34m.\u001b[0m \u001b[33m.\u001b[0m \u001b[31m.\u001b[0m \u001b[32m.\u001b[0m  |  2       . .  ->  \u001b[97m.\u001b[0m \u001b[34m.\u001b[0m \u001b[33m.\u001b[0m \u001b[31m.\u001b[0m \u001b[32m.\u001b[0m  |  2       . .  ->  \u001b[97m.\u001b[0m \u001b[34m.\u001b[0m \u001b[33m.\u001b[0m \u001b[31m.\u001b[0m \u001b[32m.\u001b[0m  |  2       . .  ->  \u001b[97m.\u001b[0m \u001b[34m.\u001b[0m \u001b[33m.\u001b[0m \u001b[31m.\u001b[0m \u001b[32m.\u001b[0m \n",
      " 3     . . .  ->  \u001b[32m.\u001b[0m \u001b[97m.\u001b[0m \u001b[34m.\u001b[0m \u001b[33m.\u001b[0m \u001b[31m.\u001b[0m  |  3     . . .  ->  \u001b[32m.\u001b[0m \u001b[97m.\u001b[0m \u001b[34m.\u001b[0m \u001b[33m.\u001b[0m \u001b[31m.\u001b[0m  |  3     . . .  ->  \u001b[32m.\u001b[0m \u001b[97m.\u001b[0m \u001b[34m.\u001b[0m \u001b[33m.\u001b[0m \u001b[31m.\u001b[0m  |  3     . . .  ->  \u001b[32m.\u001b[0m \u001b[97m.\u001b[0m \u001b[34m.\u001b[0m \u001b[33m.\u001b[0m \u001b[31m.\u001b[0m \n",
      " 4   . . . .  ->  \u001b[31m.\u001b[0m \u001b[32m.\u001b[0m \u001b[97m.\u001b[0m \u001b[34m.\u001b[0m \u001b[33m.\u001b[0m  |  4   . . . .  ->  \u001b[31m.\u001b[0m \u001b[32m.\u001b[0m \u001b[97m.\u001b[0m \u001b[34m.\u001b[0m \u001b[33m.\u001b[0m  |  4   . . . .  ->  \u001b[31m.\u001b[0m \u001b[32m.\u001b[0m \u001b[97m.\u001b[0m \u001b[34m.\u001b[0m \u001b[33m.\u001b[0m  |  4   . . . .  ->  \u001b[31m.\u001b[0m \u001b[32m.\u001b[0m \u001b[97m.\u001b[0m \u001b[34m.\u001b[0m \u001b[33m.\u001b[0m \n",
      " 5 . . . . .  ->  \u001b[33m.\u001b[0m \u001b[31m.\u001b[0m \u001b[32m.\u001b[0m \u001b[97m.\u001b[0m \u001b[34m.\u001b[0m  |  5 . . . . .  ->  \u001b[33m.\u001b[0m \u001b[31m.\u001b[0m \u001b[32m.\u001b[0m \u001b[97m.\u001b[0m \u001b[34m.\u001b[0m  |  5 . . . . .  ->  \u001b[33m.\u001b[0m \u001b[31m.\u001b[0m \u001b[32m.\u001b[0m \u001b[97m.\u001b[0m \u001b[34m.\u001b[0m  |  5 . . . . .  ->  \u001b[33m.\u001b[0m \u001b[31m.\u001b[0m \u001b[32m.\u001b[0m \u001b[97m.\u001b[0m \u001b[34m.\u001b[0m \n",
      "                             |                              |                              |                             \n",
      "-----------------------------+------------------------------+------------------------------+-----------------------------\n",
      " \u001b[02m-1 \u001b[0m\u001b[02m-1 \u001b[0m\u001b[02m-2 \u001b[0m\u001b[02m-2 \u001b[0m\u001b[02m-2 \u001b[0m\u001b[02m-3 \u001b[0m\u001b[02m-3 \u001b[0m     0 |  \u001b[02m-1 \u001b[0m\u001b[02m-1 \u001b[0m\u001b[02m-2 \u001b[0m\u001b[02m-2 \u001b[0m\u001b[02m-2 \u001b[0m\u001b[02m-3 \u001b[0m\u001b[02m-3 \u001b[0m     0 |  \u001b[02m-1 \u001b[0m\u001b[02m-1 \u001b[0m\u001b[02m-2 \u001b[0m\u001b[02m-2 \u001b[0m\u001b[02m-2 \u001b[0m\u001b[02m-3 \u001b[0m\u001b[02m-3 \u001b[0m     0 |  \u001b[02m-1 \u001b[0m\u001b[02m-1 \u001b[0m\u001b[02m-2 \u001b[0m\u001b[02m-2 \u001b[0m\u001b[02m-2 \u001b[0m\u001b[02m-3 \u001b[0m\u001b[02m-3 \u001b[0m     0\n",
      "\n"
     ]
    }
   ],
   "source": [
    "games = [azul2, azul3, azul4]\n",
    "\n",
    "for game in games:\n",
    "    print(game.GameState())"
   ]
  },
  {
   "cell_type": "code",
   "execution_count": 3,
   "metadata": {},
   "outputs": [
    {
     "data": {
      "text/plain": [
       "BAG: \u001b[34mB\u001b[0m 2\t\u001b[33mY\u001b[0m 2\t\u001b[31mR\u001b[0m 1\t\u001b[32mG\u001b[0m 11\t\u001b[97mW\u001b[0m 4\t\n",
       "OUT OF BAG: \u001b[34mB\u001b[0m 13\t\u001b[33mY\u001b[0m 8\t\u001b[31mR\u001b[0m 3\t\u001b[32mG\u001b[0m 2\t\u001b[97mW\u001b[0m 5\t\n",
       "\n",
       " [1] ....  [2] ....  [3] \u001b[33mY\u001b[0m\u001b[31mR\u001b[0m\u001b[97mW\u001b[0m\u001b[97mW\u001b[0m  [4] ....  [5] \u001b[33mY\u001b[0m\u001b[31mR\u001b[0m\u001b[32mG\u001b[0m\u001b[97mW\u001b[0m  [C] \u001b[32mG\u001b[0m\u001b[32mG\u001b[0m\u001b[97mW\u001b[0m\u001b[97mW\u001b[0m  \n",
       "\n",
       " \u001b[30m\u001b[47mPlayer 0                 13\u001b[0m |  Player 1                 14\u001b[0m \n",
       "-----------------------------+-----------------------------\n",
       "                             |                             \n",
       " 1         .  ->  \u001b[34m.\u001b[0m \u001b[33mY\u001b[0m \u001b[31mR\u001b[0m \u001b[32m.\u001b[0m \u001b[97mW\u001b[0m  |  \u001b[34m1         \u001b[34mB\u001b[0m \u001b[0m ->  \u001b[34m.\u001b[0m \u001b[33mY\u001b[0m \u001b[31mR\u001b[0m \u001b[32mG\u001b[0m \u001b[97m.\u001b[0m \n",
       " 2       . .  ->  \u001b[97m.\u001b[0m \u001b[34mB\u001b[0m \u001b[33mY\u001b[0m \u001b[31mR\u001b[0m \u001b[32m.\u001b[0m  |  \u001b[32m2       \u001b[32mG\u001b[0m \u001b[32mG\u001b[0m \u001b[0m ->  \u001b[97mW\u001b[0m \u001b[34m.\u001b[0m \u001b[33mY\u001b[0m \u001b[31mR\u001b[0m \u001b[32m.\u001b[0m \n",
       " 3     . . .  ->  \u001b[32m.\u001b[0m \u001b[97mW\u001b[0m \u001b[34mB\u001b[0m \u001b[33m.\u001b[0m \u001b[31m.\u001b[0m  |  \u001b[31m3     . . \u001b[31mR\u001b[0m \u001b[0m ->  \u001b[32mG\u001b[0m \u001b[97m.\u001b[0m \u001b[34m.\u001b[0m \u001b[33mY\u001b[0m \u001b[31m.\u001b[0m \n",
       " \u001b[31m4   \u001b[31mR\u001b[0m \u001b[31mR\u001b[0m \u001b[31mR\u001b[0m \u001b[31mR\u001b[0m \u001b[0m ->  \u001b[31m.\u001b[0m \u001b[32m.\u001b[0m \u001b[97m.\u001b[0m \u001b[34m.\u001b[0m \u001b[33m.\u001b[0m  |  \u001b[33m4   . \u001b[33mY\u001b[0m \u001b[33mY\u001b[0m \u001b[33mY\u001b[0m \u001b[0m ->  \u001b[31m.\u001b[0m \u001b[32m.\u001b[0m \u001b[97m.\u001b[0m \u001b[34mB\u001b[0m \u001b[33m.\u001b[0m \n",
       " \u001b[31m5 \u001b[31mR\u001b[0m \u001b[31mR\u001b[0m \u001b[31mR\u001b[0m \u001b[31mR\u001b[0m \u001b[31mR\u001b[0m \u001b[0m ->  \u001b[33m.\u001b[0m \u001b[31m.\u001b[0m \u001b[32m.\u001b[0m \u001b[97m.\u001b[0m \u001b[34mB\u001b[0m  |  \u001b[97m5 . . \u001b[97mW\u001b[0m \u001b[97mW\u001b[0m \u001b[97mW\u001b[0m \u001b[0m ->  \u001b[33m.\u001b[0m \u001b[31m.\u001b[0m \u001b[32m.\u001b[0m \u001b[97m.\u001b[0m \u001b[34m.\u001b[0m \n",
       "                             |                             \n",
       "-----------------------------+-----------------------------\n",
       " \u001b[02m-1 \u001b[0m\u001b[02m-1 \u001b[0m\u001b[02m-2 \u001b[0m\u001b[02m-2 \u001b[0m\u001b[02m-2 \u001b[0m\u001b[02m-3 \u001b[0m\u001b[02m-3 \u001b[0m     0 |  \u001b[32m-1 \u001b[0m\u001b[02m-1 \u001b[0m\u001b[02m-2 \u001b[0m\u001b[02m-2 \u001b[0m\u001b[02m-2 \u001b[0m\u001b[02m-3 \u001b[0m\u001b[02m-3 \u001b[0m    -1"
      ]
     },
     "execution_count": 3,
     "metadata": {},
     "output_type": "execute_result"
    }
   ],
   "source": [
    "game_state = azul2.GameState(\"2_0_1_17364484610_21508589581_0-0-131344-0-69904-8623489024_66454517_256_268460950-2134862_21541945344-12935299585_8640266239-17196778240_1\")\n",
    "game_state"
   ]
  },
  {
   "cell_type": "code",
   "execution_count": 4,
   "metadata": {},
   "outputs": [
    {
     "name": "stdout",
     "output_type": "stream",
     "text": [
      "Continue\n"
     ]
    },
    {
     "data": {
      "text/plain": [
       "[1\u001b[33mY\u001b[0m3->1@3,\n",
       " 1\u001b[33mY\u001b[0m3->D1,\n",
       " 1\u001b[31mR\u001b[0m3->1@3,\n",
       " 1\u001b[31mR\u001b[0m3->D1,\n",
       " 2\u001b[97mW\u001b[0m3->1@2 D1,\n",
       " 2\u001b[97mW\u001b[0m3->2@2,\n",
       " 2\u001b[97mW\u001b[0m3->D2,\n",
       " 1\u001b[33mY\u001b[0m5->1@3,\n",
       " 1\u001b[33mY\u001b[0m5->D1,\n",
       " 1\u001b[31mR\u001b[0m5->1@3,\n",
       " 1\u001b[31mR\u001b[0m5->D1,\n",
       " 1\u001b[32mG\u001b[0m5->1@1,\n",
       " 1\u001b[32mG\u001b[0m5->1@2,\n",
       " 1\u001b[32mG\u001b[0m5->1@3,\n",
       " 1\u001b[32mG\u001b[0m5->D1,\n",
       " 1\u001b[97mW\u001b[0m5->1@2,\n",
       " 1\u001b[97mW\u001b[0m5->D1,\n",
       " 2\u001b[32mG\u001b[0mc->1@1 D1,\n",
       " 2\u001b[32mG\u001b[0mc->1@2 D1,\n",
       " 2\u001b[32mG\u001b[0mc->2@2,\n",
       " 2\u001b[32mG\u001b[0mc->1@3 D1,\n",
       " 2\u001b[32mG\u001b[0mc->2@3,\n",
       " 2\u001b[32mG\u001b[0mc->D2,\n",
       " 2\u001b[97mW\u001b[0mc->1@2 D1,\n",
       " 2\u001b[97mW\u001b[0mc->2@2,\n",
       " 2\u001b[97mW\u001b[0mc->D2]"
      ]
     },
     "execution_count": 4,
     "metadata": {},
     "output_type": "execute_result"
    }
   ],
   "source": [
    "possible_moves, state = game_state.get_possible_moves()\n",
    "print(state)\n",
    "possible_moves"
   ]
  },
  {
   "cell_type": "code",
   "execution_count": 5,
   "metadata": {},
   "outputs": [
    {
     "data": {
      "text/plain": [
       "BAG: \u001b[34mB\u001b[0m 2\t\u001b[33mY\u001b[0m 2\t\u001b[31mR\u001b[0m 1\t\u001b[32mG\u001b[0m 11\t\u001b[97mW\u001b[0m 4\t\n",
       "OUT OF BAG: \u001b[34mB\u001b[0m 13\t\u001b[33mY\u001b[0m 8\t\u001b[31mR\u001b[0m 3\t\u001b[32mG\u001b[0m 2\t\u001b[97mW\u001b[0m 5\t\n",
       "\n",
       "  [1] .... [2] .... [3] .... [4] .... [5] \u001b[33mY\u001b[0m\u001b[31mR\u001b[0m\u001b[32mG\u001b[0m\u001b[97mW\u001b[0m [C] \u001b[31mR\u001b[0m\u001b[32mG\u001b[0m\u001b[32mG\u001b[0m\u001b[97mW\u001b[0m\u001b[97mW\u001b[0m\u001b[97mW\u001b[0m\u001b[97mW\u001b[0m \n",
       "\n",
       " Player 0                 13\u001b[0m |  \u001b[30m\u001b[47mPlayer 1                 14\u001b[0m \n",
       "-----------------------------+-----------------------------\n",
       "                             |                             \n",
       " 1         .  ->  \u001b[34m.\u001b[0m \u001b[33mY\u001b[0m \u001b[31mR\u001b[0m \u001b[32m.\u001b[0m \u001b[97mW\u001b[0m  |  \u001b[34m1         \u001b[34mB\u001b[0m \u001b[0m ->  \u001b[34m.\u001b[0m \u001b[33mY\u001b[0m \u001b[31mR\u001b[0m \u001b[32mG\u001b[0m \u001b[97m.\u001b[0m \n",
       " 2       . .  ->  \u001b[97m.\u001b[0m \u001b[34mB\u001b[0m \u001b[33mY\u001b[0m \u001b[31mR\u001b[0m \u001b[32m.\u001b[0m  |  \u001b[32m2       \u001b[32mG\u001b[0m \u001b[32mG\u001b[0m \u001b[0m ->  \u001b[97mW\u001b[0m \u001b[34m.\u001b[0m \u001b[33mY\u001b[0m \u001b[31mR\u001b[0m \u001b[32m.\u001b[0m \n",
       " \u001b[33m3     . . \u001b[33mY\u001b[0m \u001b[0m ->  \u001b[32m.\u001b[0m \u001b[97mW\u001b[0m \u001b[34mB\u001b[0m \u001b[33m.\u001b[0m \u001b[31m.\u001b[0m  |  \u001b[31m3     . . \u001b[31mR\u001b[0m \u001b[0m ->  \u001b[32mG\u001b[0m \u001b[97m.\u001b[0m \u001b[34m.\u001b[0m \u001b[33mY\u001b[0m \u001b[31m.\u001b[0m \n",
       " \u001b[31m4   \u001b[31mR\u001b[0m \u001b[31mR\u001b[0m \u001b[31mR\u001b[0m \u001b[31mR\u001b[0m \u001b[0m ->  \u001b[31m.\u001b[0m \u001b[32m.\u001b[0m \u001b[97m.\u001b[0m \u001b[34m.\u001b[0m \u001b[33m.\u001b[0m  |  \u001b[33m4   . \u001b[33mY\u001b[0m \u001b[33mY\u001b[0m \u001b[33mY\u001b[0m \u001b[0m ->  \u001b[31m.\u001b[0m \u001b[32m.\u001b[0m \u001b[97m.\u001b[0m \u001b[34mB\u001b[0m \u001b[33m.\u001b[0m \n",
       " \u001b[31m5 \u001b[31mR\u001b[0m \u001b[31mR\u001b[0m \u001b[31mR\u001b[0m \u001b[31mR\u001b[0m \u001b[31mR\u001b[0m \u001b[0m ->  \u001b[33m.\u001b[0m \u001b[31m.\u001b[0m \u001b[32m.\u001b[0m \u001b[97m.\u001b[0m \u001b[34mB\u001b[0m  |  \u001b[97m5 . . \u001b[97mW\u001b[0m \u001b[97mW\u001b[0m \u001b[97mW\u001b[0m \u001b[0m ->  \u001b[33m.\u001b[0m \u001b[31m.\u001b[0m \u001b[32m.\u001b[0m \u001b[97m.\u001b[0m \u001b[34m.\u001b[0m \n",
       "                             |                             \n",
       "-----------------------------+-----------------------------\n",
       " \u001b[02m-1 \u001b[0m\u001b[02m-1 \u001b[0m\u001b[02m-2 \u001b[0m\u001b[02m-2 \u001b[0m\u001b[02m-2 \u001b[0m\u001b[02m-3 \u001b[0m\u001b[02m-3 \u001b[0m     0 |  \u001b[32m-1 \u001b[0m\u001b[02m-1 \u001b[0m\u001b[02m-2 \u001b[0m\u001b[02m-2 \u001b[0m\u001b[02m-2 \u001b[0m\u001b[02m-3 \u001b[0m\u001b[02m-3 \u001b[0m    -1"
      ]
     },
     "execution_count": 5,
     "metadata": {},
     "output_type": "execute_result"
    }
   ],
   "source": [
    "game_state.do_move(possible_moves[0])\n",
    "game_state"
   ]
  },
  {
   "cell_type": "code",
   "execution_count": null,
   "metadata": {},
   "outputs": [],
   "source": []
  }
 ],
 "metadata": {
  "kernelspec": {
   "display_name": "base",
   "language": "python",
   "name": "python3"
  },
  "language_info": {
   "codemirror_mode": {
    "name": "ipython",
    "version": 3
   },
   "file_extension": ".py",
   "mimetype": "text/x-python",
   "name": "python",
   "nbconvert_exporter": "python",
   "pygments_lexer": "ipython3",
   "version": "3.10.13"
  }
 },
 "nbformat": 4,
 "nbformat_minor": 2
}
