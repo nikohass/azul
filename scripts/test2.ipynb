{
 "cells": [
  {
   "cell_type": "code",
   "execution_count": 161,
   "metadata": {},
   "outputs": [
    {
     "name": "stdout",
     "output_type": "stream",
     "text": [
      "98304\r"
     ]
    },
    {
     "data": {
      "text/plain": [
       "[(((0, 1, 1, 3), (0, 1, 1, 4), (0, 1, 2, 2), (1, 2, 3, 4), (2, 3, 4, 4)), 4),\n",
       " (((0, 1, 2, 3), (0, 1, 2, 4), (0, 1, 3, 4), (1, 2, 3, 4), (1, 2, 3, 4)), 4),\n",
       " (((0, 1, 1, 3), (0, 1, 2, 3), (0, 1, 2, 4), (0, 1, 2, 4), (0, 3, 3, 4)), 4),\n",
       " (((0, 1, 2, 2), (0, 1, 3, 4), (0, 2, 3, 4), (1, 2, 3, 3), (1, 2, 3, 4)), 4),\n",
       " (((0, 1, 4, 4), (0, 2, 3, 3), (0, 2, 3, 4), (1, 3, 4, 4), (1, 3, 4, 4)), 3)]"
      ]
     },
     "execution_count": 161,
     "metadata": {},
     "output_type": "execute_result"
    }
   ],
   "source": [
    "import random\n",
    "from collections import Counter\n",
    "\n",
    "class Bag:\n",
    "    def __init__(self, tile_counts, out_of_bag):\n",
    "        self.out_of_bag = out_of_bag\n",
    "\n",
    "        self.tiles = []\n",
    "        for i, count in enumerate(tile_counts):\n",
    "            self.tiles.extend([i] * count)\n",
    "        random.shuffle(self.tiles)\n",
    "\n",
    "    def pop(self):\n",
    "        if len(self.tiles) == 0:\n",
    "            # Refill the bag\n",
    "            self.__init__(self.out_of_bag, [0] * 5)\n",
    "        return self.tiles.pop()\n",
    "\n",
    "def draw_factories(bag, num_factories=5):\n",
    "    \"\"\"\n",
    "    Draw tiles from the bag and fill the factories.\n",
    "    Returns a list of the factories.\n",
    "    \"\"\"\n",
    "    factories = [[] for _ in range(num_factories)]\n",
    "\n",
    "    for factory in factories:\n",
    "        # Draw 4 tiles for each factory\n",
    "        for _ in range(4):\n",
    "            factory.append(bag.pop())\n",
    "    \n",
    "    # Sort the factories to make it easier to compare\n",
    "    return sorted([tuple(sorted(factory)) for factory in factories])\n",
    "\n",
    "def simulate(num_runs, num_factories=5):\n",
    "    \"\"\"\n",
    "    Simulate drawing tiles from the bag and filling the factories.\n",
    "    Returns a Counter of the number of times each factory occurs.\n",
    "    \"\"\"\n",
    "    outcomes = []\n",
    "\n",
    "    for i in range(num_runs):\n",
    "        bag = Bag([20, 20, 20, 20, 20], [0] * 5)\n",
    "        outcomes.append(tuple(draw_factories(bag, num_factories)))\n",
    "\n",
    "        if i % 4096 == 0:\n",
    "            print(i, end=\"\\r\")\n",
    "    \n",
    "    # Count the frequency of each outcome\n",
    "    outcome_counts = Counter(outcomes)\n",
    "    \n",
    "    # Find the most common outcomes\n",
    "    most_common = outcome_counts.most_common(5)\n",
    "\n",
    "    return most_common\n",
    "\n",
    "simulate(100000)\n",
    "\n",
    "# # Tile counts for each color\n",
    "# tile_counts = [3, 0, 0, 0, 0]\n",
    "# out_of_bag = [17, 20, 20, 20, 20]\n",
    "# bag = Bag(tile_counts, out_of_bag)\n",
    "# print(bag.tiles)\n",
    "# draw_factories(bag)"
   ]
  },
  {
   "cell_type": "code",
   "execution_count": 3,
   "metadata": {},
   "outputs": [
    {
     "name": "stdout",
     "output_type": "stream",
     "text": [
      "70\n",
      "(((0, 0, 0, 0), (1, 1, 1, 1), (2, 2, 2, 3), (2, 3, 3, 3), (4, 4, 4, 4)), 1.6302311350513592e-14)\n",
      "(((0, 0, 0, 0), (1, 1, 1, 1), (2, 2, 2, 4), (2, 4, 4, 4), (3, 3, 3, 3)), 1.6302311350513592e-14)\n",
      "(((0, 0, 0, 0), (1, 1, 2, 2), (1, 1, 2, 2), (3, 3, 3, 3), (4, 4, 4, 4)), 1.6302311350513592e-14)\n",
      "(((0, 0, 0, 0), (1, 1, 2, 3), (1, 2, 2, 2), (1, 3, 3, 3), (4, 4, 4, 4)), 1.6302311350513592e-14)\n",
      "(((0, 0, 0, 0), (1, 1, 2, 3), (1, 2, 2, 3), (1, 2, 3, 3), (4, 4, 4, 4)), 1.6302311350513592e-14)\n"
     ]
    }
   ],
   "source": [
    "from itertools import combinations_with_replacement\n",
    "from collections import Counter\n",
    "from math import comb\n",
    "\n",
    "def multichoose(n, k):\n",
    "    \"\"\" Calculate the number of ways to choose k items from n types, allowing repetition. \"\"\"\n",
    "    return comb(n + k - 1, k)\n",
    "\n",
    "def calculate_probability(tile_counts, combination):\n",
    "    \"\"\" Calculate the probability of drawing a specific combination of tiles. \"\"\"\n",
    "    total_tiles = sum(tile_counts)\n",
    "    probability = 1\n",
    "    for tile in combination:\n",
    "        probability *= tile_counts[tile] / total_tiles\n",
    "        total_tiles -= 1\n",
    "        tile_counts[tile] -= 1\n",
    "    return probability\n",
    "\n",
    "def simulate_factories(num_factories, initial_tile_counts):\n",
    "    \"\"\" Simulate the factories and calculate probabilities of outcomes. \"\"\"\n",
    "    all_combinations = list(combinations_with_replacement(range(5), 4))\n",
    "    print(len(all_combinations))\n",
    "    outcomes = Counter()\n",
    "\n",
    "    comb = combinations_with_replacement(all_combinations, num_factories)\n",
    "    #print(len(list(comb)))\n",
    "    for i, factory_layout in enumerate(comb):\n",
    "        if i % 10000 == 0:\n",
    "            print(i, end=\"\\r\")\n",
    "        tile_counts = initial_tile_counts.copy()\n",
    "        probability = 1\n",
    "        for factory in factory_layout:\n",
    "            probability *= calculate_probability(tile_counts, factory)\n",
    "        outcomes[factory_layout] += probability\n",
    "\n",
    "    # Find the most common outcomes\n",
    "    return outcomes.most_common(5)\n",
    "\n",
    "# Initial counts of each tile type\n",
    "initial_tile_counts = [20, 20, 20, 20, 20]\n",
    "\n",
    "# Simulate the factories\n",
    "most_common_outcomes = simulate_factories(5, initial_tile_counts)\n",
    "for outcome in most_common_outcomes:\n",
    "    print(outcome)"
   ]
  },
  {
   "cell_type": "code",
   "execution_count": 14,
   "metadata": {},
   "outputs": [
    {
     "data": {
      "text/plain": [
       "0"
      ]
     },
     "execution_count": 14,
     "metadata": {},
     "output_type": "execute_result"
    }
   ],
   "source": []
  },
  {
   "cell_type": "code",
   "execution_count": 9,
   "metadata": {},
   "outputs": [
    {
     "name": "stdout",
     "output_type": "stream",
     "text": [
      "57.0\n",
      "0.00057\n",
      "0.99957\n"
     ]
    }
   ],
   "source": [
    "def get_game_result(score1, score2):\n",
    "    NORMALIZATION_SCORE_LIMIT = 100\n",
    "    BASE_SCORE_ADJUSTMENT = 0.001\n",
    "    COMPLEMENTARY_SCORE_ADJUSTMENT = 1 - BASE_SCORE_ADJUSTMENT\n",
    "\n",
    "    score_difference = float(score1) - float(score2)\n",
    "    print(score_difference)\n",
    "    normalized_score_difference = abs(score_difference) / NORMALIZATION_SCORE_LIMIT * BASE_SCORE_ADJUSTMENT\n",
    "    print(normalized_score_difference)\n",
    "\n",
    "    if score_difference > 0:\n",
    "        return COMPLEMENTARY_SCORE_ADJUSTMENT + normalized_score_difference\n",
    "    elif score_difference < 0:\n",
    "        return BASE_SCORE_ADJUSTMENT - normalized_score_difference\n",
    "    else:\n",
    "        return 0.5\n",
    "\n",
    "# Example usage\n",
    "result = get_game_result(60, 3)\n",
    "print(result)"
   ]
  },
  {
   "cell_type": "code",
   "execution_count": null,
   "metadata": {},
   "outputs": [],
   "source": []
  },
  {
   "cell_type": "code",
   "execution_count": 28,
   "metadata": {},
   "outputs": [
    {
     "data": {
      "text/plain": [
       "[0.25, 0.5, 0.25, 0.0]"
      ]
     },
     "execution_count": 28,
     "metadata": {},
     "output_type": "execute_result"
    }
   ],
   "source": [
    "\n",
    "def from_game_scores(game_scores, NUM_PLAYERS, BASE_SCORE_ADJUSTMENT, COMPLEMENTARY_SCORE_ADJUSTMENT):\n",
    "    max_score = max(game_scores)\n",
    "    min_score = min(game_scores)\n",
    "\n",
    "    score_range = max_score - min_score\n",
    "    if score_range == 0:\n",
    "        # If all scores are the same, return 1 / NUM_PLAYERS for each player\n",
    "        return [1.0 / NUM_PLAYERS for _ in range(NUM_PLAYERS)]\n",
    "\n",
    "    value = [0.0] * NUM_PLAYERS\n",
    "    for i, score in enumerate(game_scores):\n",
    "        normalized_score = (score - min_score) / score_range\n",
    "        value[i] = normalized_score\n",
    "\n",
    "    sum_value = sum(value)\n",
    "    return [v / sum_value for v in value]\n",
    "\n",
    "NUM_PLAYERS = 4\n",
    "game_scores = [2, 3, 2, 1] # Example scores for 4 players\n",
    "\n",
    "values = from_game_scores(game_scores, NUM_PLAYERS, BASE_SCORE_ADJUSTMENT, COMPLEMENTARY_SCORE_ADJUSTMENT)\n",
    "values"
   ]
  },
  {
   "cell_type": "code",
   "execution_count": 3,
   "metadata": {},
   "outputs": [
    {
     "name": "stdout",
     "output_type": "stream",
     "text": [
      "[0.0, 0.6666666666666666, 0.6666666666666666, 1.0]\n"
     ]
    }
   ],
   "source": [
    "class Value:\n",
    "    def __init__(self, values):\n",
    "        self.values = values\n",
    "\n",
    "    @classmethod\n",
    "    def from_game_scores(cls, game_scores, num_players):\n",
    "        max_score = max(game_scores)\n",
    "        min_score = min(game_scores)\n",
    "\n",
    "        score_range = max_score - min_score\n",
    "        if score_range == 0:\n",
    "            # If all scores are the same, return equal value for each player\n",
    "            return cls([1.0 / num_players] * num_players)\n",
    "\n",
    "        # Normalize scores\n",
    "        normalized_scores = [(score - min_score) / score_range for score in game_scores]\n",
    "\n",
    "        # Normalize so the sum of all values is 1\n",
    "        sum_scores = sum(normalized_scores)\n",
    "        # normalized_scores = [score / sum_scores for score in normalized_scores]\n",
    "\n",
    "        return cls(normalized_scores)\n",
    "\n",
    "# Example usage:\n",
    "num_players = 4\n",
    "game_scores = [10, 30, 30, 40]\n",
    "value_instance = Value.from_game_scores(game_scores, num_players)\n",
    "print(value_instance.values)\n"
   ]
  },
  {
   "cell_type": "code",
   "execution_count": null,
   "metadata": {},
   "outputs": [],
   "source": []
  }
 ],
 "metadata": {
  "kernelspec": {
   "display_name": "Python 3",
   "language": "python",
   "name": "python3"
  },
  "language_info": {
   "codemirror_mode": {
    "name": "ipython",
    "version": 3
   },
   "file_extension": ".py",
   "mimetype": "text/x-python",
   "name": "python",
   "nbconvert_exporter": "python",
   "pygments_lexer": "ipython3",
   "version": "3.10.9"
  }
 },
 "nbformat": 4,
 "nbformat_minor": 2
}
