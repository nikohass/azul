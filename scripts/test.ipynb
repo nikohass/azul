{
 "cells": [
  {
   "cell_type": "code",
   "execution_count": 18,
   "metadata": {},
   "outputs": [],
   "source": [
    "def count_row_neighbors(occupancy, new_tile_pos):\n",
    "    # Create a bitboard with the new tile on it\n",
    "    new_tile = 1 << new_tile_pos\n",
    "    # Add the new tile to the occupancy\n",
    "    occupancy |= new_tile\n",
    "    # Create empty bitboard to store neighbors and tile (the tile also counts as a point)\n",
    "    neighbors = 0\n",
    "    # For each bit in the row, add it to the neighbors bitboard\n",
    "    bit = new_tile\n",
    "    while bit & occupancy > 0:\n",
    "        neighbors |= bit\n",
    "        bit <<= 1\n",
    "    # The same for the column\n",
    "    bit = new_tile\n",
    "    while bit & occupancy > 0:\n",
    "        neighbors |= bit\n",
    "        bit >>= 1\n",
    "    # Return the number of neighbors (including the tile itself)\n",
    "    return bin(neighbors).count(\"1\")\n",
    "\n",
    "# Testing the function with an example\n",
    "valid_tiles = 0b11111_0_11111_0_11111_0_11111_0_11111  # example occupancy bitboard\n",
    "new_tile_pos = 9  # example new tile position\n",
    "occupancy = 0b11011_0_00000\n",
    "\n",
    "count_row_neighbors(occupancy, new_tile_pos)\n",
    "\n",
    "def get_row_from_pos(pos):\n",
    "    # Get the row number from the position\n",
    "    return pos // 5\n",
    "\n",
    "row = occupancy >> (5 * (new_tile_pos // 5))\n",
    "bin(row)[2:]\n",
    "\n",
    "import numpy as np\n",
    "lookup = np.zeros(shape=(5, 2**5), dtype=np.uint8)\n",
    "\n",
    "for occupancy in range(0, 0b11111):\n",
    "    for new_tile_pos in range(5):\n",
    "        result = count_row_neighbors(occupancy=occupancy, new_tile_pos=new_tile_pos)\n",
    "        lookup[new_tile_pos, occupancy] = result\n",
    "    # print(bin(occupancy)[2:].zfill(5))"
   ]
  },
  {
   "cell_type": "code",
   "execution_count": 21,
   "metadata": {},
   "outputs": [
    {
     "data": {
      "text/plain": [
       "2"
      ]
     },
     "execution_count": 21,
     "metadata": {},
     "output_type": "execute_result"
    }
   ],
   "source": [
    "lookup[0, 0b01010]"
   ]
  },
  {
   "cell_type": "code",
   "execution_count": 22,
   "metadata": {},
   "outputs": [
    {
     "data": {
      "text/plain": [
       "array([[1, 1, 2, 2, 1, 1, 3, 3, 1, 1, 2, 2, 1, 1, 4, 4, 1, 1, 2, 2, 1, 1,\n",
       "        3, 3, 1, 1, 2, 2, 1, 1, 5, 0],\n",
       "       [1, 2, 1, 2, 2, 3, 2, 3, 1, 2, 1, 2, 3, 4, 3, 4, 1, 2, 1, 2, 2, 3,\n",
       "        2, 3, 1, 2, 1, 2, 4, 5, 4, 0],\n",
       "       [1, 1, 2, 3, 1, 1, 2, 3, 2, 2, 3, 4, 2, 2, 3, 4, 1, 1, 2, 3, 1, 1,\n",
       "        2, 3, 3, 3, 4, 5, 3, 3, 4, 0],\n",
       "       [1, 1, 1, 1, 2, 2, 3, 4, 1, 1, 1, 1, 2, 2, 3, 4, 2, 2, 2, 2, 3, 3,\n",
       "        4, 5, 2, 2, 2, 2, 3, 3, 4, 0],\n",
       "       [1, 1, 1, 1, 1, 1, 1, 1, 2, 2, 2, 2, 3, 3, 4, 5, 1, 1, 1, 1, 1, 1,\n",
       "        1, 1, 2, 2, 2, 2, 3, 3, 4, 0]], dtype=uint8)"
      ]
     },
     "execution_count": 22,
     "metadata": {},
     "output_type": "execute_result"
    }
   ],
   "source": [
    "lookup = [[1, 1, 2, 2, 1, 1, 3, 3, 1, 1, 2, 2, 1, 1, 4, 4, 1, 1, 2, 2, 1, 1,\n",
    "        3, 3, 1, 1, 2, 2, 1, 1, 5, 0],\n",
    "       [1, 2, 1, 2, 2, 3, 2, 3, 1, 2, 1, 2, 3, 4, 3, 4, 1, 2, 1, 2, 2, 3,\n",
    "        2, 3, 1, 2, 1, 2, 4, 5, 4, 0],\n",
    "       [1, 1, 2, 3, 1, 1, 2, 3, 2, 2, 3, 4, 2, 2, 3, 4, 1, 1, 2, 3, 1, 1,\n",
    "        2, 3, 3, 3, 4, 5, 3, 3, 4, 0],\n",
    "       [1, 1, 1, 1, 2, 2, 3, 4, 1, 1, 1, 1, 2, 2, 3, 4, 2, 2, 2, 2, 3, 3,\n",
    "        4, 5, 2, 2, 2, 2, 3, 3, 4, 0],\n",
    "       [1, 1, 1, 1, 1, 1, 1, 1, 2, 2, 2, 2, 3, 3, 4, 5, 1, 1, 1, 1, 1, 1,\n",
    "        1, 1, 2, 2, 2, 2, 3, 3, 4, 0]]"
   ]
  },
  {
   "cell_type": "code",
   "execution_count": null,
   "metadata": {},
   "outputs": [],
   "source": []
  }
 ],
 "metadata": {
  "kernelspec": {
   "display_name": "base",
   "language": "python",
   "name": "python3"
  },
  "language_info": {
   "codemirror_mode": {
    "name": "ipython",
    "version": 3
   },
   "file_extension": ".py",
   "mimetype": "text/x-python",
   "name": "python",
   "nbconvert_exporter": "python",
   "pygments_lexer": "ipython3",
   "version": "3.10.9"
  }
 },
 "nbformat": 4,
 "nbformat_minor": 2
}
